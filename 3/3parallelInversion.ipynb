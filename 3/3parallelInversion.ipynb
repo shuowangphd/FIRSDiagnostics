{
 "cells": [
  {
   "cell_type": "markdown",
   "metadata": {},
   "source": [
    "# He I Diagnostics Using FIRS Data\n",
    "\n",
    "## 3. Parallel inversion\n",
    "\n",
    "Shuo Wang\n",
    "\n",
    "Dept. of Astronomy, NMSU\n",
    "\n",
    "DKIST Ambassador"
   ]
  },
  {
   "cell_type": "markdown",
   "metadata": {},
   "source": [
    "### Load Data"
   ]
  },
  {
   "cell_type": "code",
   "execution_count": null,
   "metadata": {},
   "outputs": [],
   "source": [
    "import numpy as np\n",
    "import matplotlib.pyplot as plt\n",
    "from scipy.io import readsav\n",
    "from skimage.transform import downscale_local_mean\n",
    "import hazel\n",
    "import h5py"
   ]
  },
  {
   "cell_type": "code",
   "execution_count": null,
   "metadata": {},
   "outputs": [],
   "source": [
    "le,r = 100,172 \n",
    "s4 = np.load('clean.npy')[:,:,le:r] # spatial resolution dy=0.15,dx=0.3 arcsec\n",
    "print(s4.shape)"
   ]
  },
  {
   "cell_type": "code",
   "execution_count": null,
   "metadata": {},
   "outputs": [],
   "source": [
    "wva = readsav('wva.sav')['wva'][le:r]\n",
    "nw = wva.shape[0]\n",
    "print(f'{wva[0]:.3f}',f'{wva[-1]:.3f}',nw)"
   ]
  },
  {
   "cell_type": "markdown",
   "metadata": {},
   "source": [
    "### Resize"
   ]
  },
  {
   "cell_type": "code",
   "execution_count": null,
   "metadata": {},
   "outputs": [],
   "source": [
    "img = downscale_local_mean(s4[0,:,10], (6, 3)) # dx=dy=0.9 arcsec\n",
    "nimg = img.shape\n",
    "print(nimg)\n",
    "sd9 = np.empty([4,nimg[0], nw,nimg[1]])\n",
    "for i in range(4):\n",
    "    for j in range(nw):\n",
    "        sd9[i,:,j,:] = downscale_local_mean(s4[i,:,j], (6, 3)) # 0.9 arcsec\n",
    "vmin,vmax = np.percentile(sd9[0,:,10],5),np.percentile(sd9[0,:,10],95)\n",
    "plt.figure(figsize=(12,8))\n",
    "plt.subplot(121)\n",
    "plt.imshow(s4[0,:,10],origin='lower',vmin=vmin,vmax=vmax)\n",
    "plt.subplot(122)\n",
    "plt.imshow(sd9[0,:,10],origin='lower',vmin=vmin,vmax=vmax)"
   ]
  },
  {
   "cell_type": "markdown",
   "metadata": {},
   "source": [
    " ### Select Region Of Interest"
   ]
  },
  {
   "cell_type": "code",
   "execution_count": null,
   "metadata": {
    "scrolled": false
   },
   "outputs": [],
   "source": [
    "y1,x1 = 197,244\n",
    "y1d9,x1d9 = y1//6,x1//3\n",
    "ny = nx = 2\n",
    "sd9r = sd9[:,y1d9:y1d9+ny,:,x1d9:x1d9+nx]\n",
    "\n",
    "plt.figure(figsize=(12,8))\n",
    "plt.plot(wva,s4[0,y1,:,x1]/np.max(s4[0,y1,:,x1]),label = 'px1')\n",
    "plt.plot(wva,sd9r[0,0,:,0]/np.max(sd9r[0,0,:,0]),label = 'px1d9')\n",
    "plt.axvline(x=10830.3,color='C3')\n",
    "plt.legend()"
   ]
  },
  {
   "cell_type": "markdown",
   "metadata": {},
   "source": [
    "### Prepare Input Files for HAZEL"
   ]
  },
  {
   "cell_type": "code",
   "execution_count": null,
   "metadata": {},
   "outputs": [],
   "source": [
    "stokes = np.zeros((ny*nx,nw,4))\n",
    "idx=0\n",
    "for yi in range(ny):\n",
    "    for xi in range(nx):\n",
    "        stokes[idx] = sd9r[:,yi,:,xi].T\n",
    "        stokes[idx,:,0] /=np.max(stokes[idx,:,0])\n",
    "        idx += 1\n",
    "sigma = np.array([[[1e-2,5e-4,5e-4,5e-4],]*nw,]*ny*nx, dtype=np.float64) # noise IQUV\n",
    "los = np.array([[0, 0, 90],]*ny*nx, dtype=np.float64)\n",
    "boundary = np.zeros((ny*nx,nw,4), dtype=np.float64)\n",
    "boundary[:,:,0] = 1.0\n",
    "\n",
    "f = h5py.File('in.h5', 'w')\n",
    "db_stokes = f.create_dataset('stokes', stokes.shape, dtype=np.float64)\n",
    "db_sigma = f.create_dataset('sigma', sigma.shape, dtype=np.float64)\n",
    "db_los = f.create_dataset('LOS', los.shape, dtype=np.float64)\n",
    "db_boundary = f.create_dataset('boundary', boundary.shape, dtype=np.float64)\n",
    "db_stokes[:] = stokes\n",
    "db_sigma[:] = sigma\n",
    "db_los[:] = los\n",
    "db_boundary[:] = boundary\n",
    "f.close()"
   ]
  },
  {
   "cell_type": "markdown",
   "metadata": {},
   "source": [
    "### Run HAZEL Inversion"
   ]
  },
  {
   "cell_type": "code",
   "execution_count": null,
   "metadata": {
    "scrolled": true
   },
   "outputs": [],
   "source": [
    "!mpiexec -n 5 python inve.py"
   ]
  },
  {
   "cell_type": "markdown",
   "metadata": {},
   "source": [
    "### Results"
   ]
  },
  {
   "cell_type": "code",
   "execution_count": null,
   "metadata": {},
   "outputs": [],
   "source": [
    "fo = h5py.File('output.h5', 'r')\n",
    "ch1 = fo['ch1']\n",
    "arr = np.array(['deltav','tau','v'])\n",
    "for i in arr:\n",
    "    print(i,': ',f'{ch1[i][0,0,0]:.2f}')\n",
    "\n",
    "iq=['I','Q','U','V']\n",
    "plt.figure(figsize = (12,8))\n",
    "for i in range(4):\n",
    "    plt.subplot(221+i)\n",
    "    for j in [0,3]:\n",
    "        plt.plot(wva, stokes[j,:,i],'.',label='observation'+str(j))\n",
    "        plt.plot(wva, fo['spec1']['stokes'][j,0,i],label='inversion'+str(j))\n",
    "    plt.xlabel('Wavelength [$\\AA$]')\n",
    "    plt.ylabel(iq[i])\n",
    "plt.legend()\n",
    "fo.close()"
   ]
  },
  {
   "cell_type": "code",
   "execution_count": null,
   "metadata": {},
   "outputs": [],
   "source": []
  }
 ],
 "metadata": {
  "kernelspec": {
   "display_name": "Python 3 (ipykernel)",
   "language": "python",
   "name": "python3"
  },
  "language_info": {
   "codemirror_mode": {
    "name": "ipython",
    "version": 3
   },
   "file_extension": ".py",
   "mimetype": "text/x-python",
   "name": "python",
   "nbconvert_exporter": "python",
   "pygments_lexer": "ipython3",
   "version": "3.9.10"
  }
 },
 "nbformat": 4,
 "nbformat_minor": 4
}
