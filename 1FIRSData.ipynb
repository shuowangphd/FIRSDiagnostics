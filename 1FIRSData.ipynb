{
 "cells": [
  {
   "cell_type": "markdown",
   "metadata": {},
   "source": [
    "# He I Diagnostics Using FIRS Data\n",
    "\n",
    "## 1. Understanding the FIRS Spectropolarimetric Data\n",
    "\n",
    "Shuo Wang\n",
    "\n",
    "Dept. of Astronomy, NMSU\n",
    "\n",
    "DKIST Ambassador"
   ]
  },
  {
   "cell_type": "markdown",
   "metadata": {},
   "source": [
    "### Load Data"
   ]
  },
  {
   "cell_type": "code",
   "execution_count": null,
   "metadata": {},
   "outputs": [],
   "source": [
    "import numpy as np\n",
    "import matplotlib.pyplot as plt\n",
    "from scipy.io import readsav\n",
    "\n",
    "s4 = np.load('clean.npy')\n",
    "s4[0]*=2.2  #fix the normalization.\n",
    "print(s4.shape)"
   ]
  },
  {
   "cell_type": "code",
   "execution_count": null,
   "metadata": {},
   "outputs": [],
   "source": [
    "wva = readsav('wva.sav')['wva']\n",
    "print(wva.shape)\n",
    "print(wva[0:2],wva[-1])"
   ]
  },
  {
   "cell_type": "markdown",
   "metadata": {},
   "source": [
    " ### Line Profiles"
   ]
  },
  {
   "cell_type": "code",
   "execution_count": null,
   "metadata": {},
   "outputs": [],
   "source": [
    "plt.figure(figsize=(12,8))\n",
    "plt.plot(s4[0,100,:-1,100])"
   ]
  },
  {
   "cell_type": "markdown",
   "metadata": {},
   "source": [
    "### Continuum Image "
   ]
  },
  {
   "cell_type": "code",
   "execution_count": null,
   "metadata": {},
   "outputs": [],
   "source": [
    "plt.figure(figsize=(12,8))\n",
    "plt.imshow(s4[0,:,120],origin='lower',vmax=1.05,vmin=.7)\n",
    "plt.colorbar()"
   ]
  },
  {
   "cell_type": "markdown",
   "metadata": {},
   "source": [
    "### He I Stokes Images"
   ]
  },
  {
   "cell_type": "code",
   "execution_count": null,
   "metadata": {},
   "outputs": [],
   "source": [
    "iq = 'IQUV'\n",
    "plt.figure(figsize=(12,12))\n",
    "for i in range(4):\n",
    "    plt.subplot(221+i)\n",
    "    lc = 150\n",
    "    if i == 3:\n",
    "        lc-=6\n",
    "    img = s4[i,:,lc]\n",
    "    plt.imshow(img,vmax=np.percentile(img,98),vmin=np.percentile(img,5),origin='lower')\n",
    "    plt.colorbar()\n",
    "    plt.title(iq[i])"
   ]
  },
  {
   "cell_type": "code",
   "execution_count": null,
   "metadata": {},
   "outputs": [],
   "source": [
    "yi,xi = 298, 273\n",
    "plt.figure(figsize=(12,12))\n",
    "for i in range(4):\n",
    "    plt.subplot(221+i)\n",
    "    img = s4[i,:,:,xi]\n",
    "    plt.imshow(img,vmax=np.percentile(img,99),vmin=np.percentile(img,1),origin='lower')\n",
    "    plt.colorbar()\n",
    "    plt.title(iq[i])"
   ]
  },
  {
   "cell_type": "code",
   "execution_count": null,
   "metadata": {},
   "outputs": [],
   "source": [
    "\n",
    "plt.figure(figsize = (12,8))\n",
    "for i in range(4):\n",
    "    plt.subplot(221+i)\n",
    "    plt.plot(wva[1:-1], s4[i,yi,1:-1,xi])\n",
    "    plt.xlabel('Wavelength [$\\AA$]')\n",
    "    plt.ylabel(iq[i])"
   ]
  },
  {
   "cell_type": "code",
   "execution_count": null,
   "metadata": {},
   "outputs": [],
   "source": []
  }
 ],
 "metadata": {
  "kernelspec": {
   "display_name": "Python 3 (ipykernel)",
   "language": "python",
   "name": "python3"
  },
  "language_info": {
   "codemirror_mode": {
    "name": "ipython",
    "version": 3
   },
   "file_extension": ".py",
   "mimetype": "text/x-python",
   "name": "python",
   "nbconvert_exporter": "python",
   "pygments_lexer": "ipython3",
   "version": "3.9.7"
  }
 },
 "nbformat": 4,
 "nbformat_minor": 4
}
