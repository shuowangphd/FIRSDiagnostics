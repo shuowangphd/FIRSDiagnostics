{
 "cells": [
  {
   "cell_type": "markdown",
   "metadata": {},
   "source": [
    "# He I Diagnostics Using FIRS Data\n",
    "\n",
    "## 2. Single pixel inversion\n",
    "Shuo Wang\n",
    "\n",
    "Dept. of Astronomy, NMSU\n",
    "\n",
    "DKIST Ambassador"
   ]
  },
  {
   "cell_type": "markdown",
   "metadata": {},
   "source": [
    "### Load Data"
   ]
  },
  {
   "cell_type": "code",
   "execution_count": null,
   "metadata": {},
   "outputs": [],
   "source": [
    "import numpy as np\n",
    "import matplotlib.pyplot as plt\n",
    "from scipy.io import readsav\n",
    "import hazel\n",
    "import h5py"
   ]
  },
  {
   "cell_type": "code",
   "execution_count": null,
   "metadata": {},
   "outputs": [],
   "source": [
    "le,r = 100,172 \n",
    "s4 = np.load('clean.npy')[:,:,le:r]\n",
    "print(s4.shape)"
   ]
  },
  {
   "cell_type": "code",
   "execution_count": null,
   "metadata": {},
   "outputs": [],
   "source": [
    "wva = readsav('wva.sav')['wva'][le:r]\n",
    "print(f'{wva[0]:.3f}',f'{wva[-1]:.3f}',wva.shape[0])"
   ]
  },
  {
   "cell_type": "markdown",
   "metadata": {},
   "source": [
    " ### Select Line Profiles"
   ]
  },
  {
   "cell_type": "code",
   "execution_count": null,
   "metadata": {},
   "outputs": [],
   "source": [
    "y1,x1 = 197,244\n",
    "y2,x2 = 140,311\n",
    "plt.figure(figsize=(12,8))\n",
    "plt.plot(wva,s4[0,y1,:,x1]/np.max(s4[0,y1,:,x1]),label = 'px1')\n",
    "plt.plot(wva,s4[0,y2,:,x2]/np.max(s4[0,y2,:,x2]),label = 'px2')\n",
    "plt.axvline(x=10830.3,color='C3')\n",
    "plt.legend()"
   ]
  },
  {
   "cell_type": "markdown",
   "metadata": {},
   "source": [
    "### Prepare Input Files for HAZEL"
   ]
  },
  {
   "cell_type": "code",
   "execution_count": null,
   "metadata": {},
   "outputs": [],
   "source": [
    "stokes = s4[:,y1,:,x1]\n",
    "stokes[0]/=np.max(stokes[0])\n",
    "_,nw = stokes.shape\n",
    "plt.figure(figsize=(12,8))\n",
    "for i in range(4):\n",
    "    plt.subplot(221+i)\n",
    "    plt.plot(wva,stokes[i])\n",
    "\n",
    "sigma = np.array([[1e-2,5e-4,5e-4,5e-4],]*nw, dtype=np.float64) # noise IQUV\n",
    "f = open('x244y197.1d', 'wb')\n",
    "f.write(b'# LOS theta_LOS, phi_LOS, gamma_LOS\\n')\n",
    "f.write(b'0.0 0.0 90.0\\n')\n",
    "f.write(b'\\n')\n",
    "f.write(b'# Boundary condition I/Ic(mu=1), Q/Ic(mu=1), U/Ic(mu=1), V/Ic(mu=1)\\n')\n",
    "f.write(b'1.0 0.0 0.0 0.0\\n')\n",
    "f.write(b'\\n')\n",
    "f.write(b'# SI SQ SU SV sigmaI sigmaQ sigmaU sigmaV\\n')\n",
    "tmp = np.hstack([stokes.T, sigma])\n",
    "np.savetxt(f, tmp)\n",
    "f.close()"
   ]
  },
  {
   "cell_type": "markdown",
   "metadata": {},
   "source": [
    "### Run HAZEL Inversion"
   ]
  },
  {
   "cell_type": "code",
   "execution_count": null,
   "metadata": {},
   "outputs": [],
   "source": [
    "mod = hazel.Model('conf.ini', working_mode='inversion')\n",
    "mod.read_observation()\n",
    "mod.open_output()\n",
    "mod.invert()\n",
    "mod.write_output()\n",
    "mod.close_output()"
   ]
  },
  {
   "cell_type": "markdown",
   "metadata": {},
   "source": [
    "### Results"
   ]
  },
  {
   "cell_type": "code",
   "execution_count": null,
   "metadata": {},
   "outputs": [],
   "source": [
    "fo = h5py.File('output.h5', 'r')\n",
    "ch1 = fo['ch1']\n",
    "arr = np.array(['deltav','tau','v'])\n",
    "for i in arr:\n",
    "    print(i,': ',f'{ch1[i][0,0,0]:.2f}')\n",
    "iq=['I','Q','U','V']\n",
    "plt.figure(figsize = (12,8))\n",
    "for i in range(4):\n",
    "    plt.subplot(221+i)\n",
    "    plt.plot(wva, stokes[i],'.',label='observation')\n",
    "    plt.plot(wva, fo['spec1']['stokes'][0,0,i],label='inversion')\n",
    "    plt.xlabel('Wavelength [$\\AA$]')\n",
    "    plt.ylabel(iq[i])\n",
    "plt.legend()\n",
    "fo.close()"
   ]
  },
  {
   "cell_type": "code",
   "execution_count": null,
   "metadata": {},
   "outputs": [],
   "source": []
  }
 ],
 "metadata": {
  "kernelspec": {
   "display_name": "Python 3 (ipykernel)",
   "language": "python",
   "name": "python3"
  },
  "language_info": {
   "codemirror_mode": {
    "name": "ipython",
    "version": 3
   },
   "file_extension": ".py",
   "mimetype": "text/x-python",
   "name": "python",
   "nbconvert_exporter": "python",
   "pygments_lexer": "ipython3",
   "version": "3.9.7"
  }
 },
 "nbformat": 4,
 "nbformat_minor": 4
}
